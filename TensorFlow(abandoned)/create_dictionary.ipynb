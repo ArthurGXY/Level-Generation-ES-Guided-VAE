{
 "cells": [
  {
   "cell_type": "code",
   "execution_count": 1,
   "metadata": {},
   "outputs": [],
   "source": [
    "import json\n",
    "import codecs"
   ]
  },
  {
   "attachments": {},
   "cell_type": "markdown",
   "metadata": {},
   "source": [
    "### Create json file to save vocabulary"
   ]
  },
  {
   "cell_type": "code",
   "execution_count": 2,
   "metadata": {},
   "outputs": [],
   "source": [
    "# file_names: a list of names of txt files\n",
    "def create_vocab(file_names):\n",
    "    word_num = 0\n",
    "    seen_words = set()\n",
    "    max_length = 0\n",
    "    for file_name in file_names:\n",
    "        with codecs.open(file_name, \"r\", encoding=\"utf-8\") as fp:\n",
    "            for l in fp: # level(sentence)\n",
    "                max_length = max(max_length, len(l.split(\"  \")[:-1]))\n",
    "                for word in l.split(\"  \")[:-1]: # row(word)\n",
    "                    word_num += 1\n",
    "                    seen_words.add(word)\n",
    "    \n",
    "    # Our vocabulary is actually a list\n",
    "    vocab = []\n",
    "    for word in seen_words:\n",
    "        vocab.append(word)\n",
    "\n",
    "    print(f\"total words: {word_num}, vocab size: {len(vocab)}, max level height: {max_length}\")\n",
    "    return vocab"
   ]
  },
  {
   "cell_type": "code",
   "execution_count": 3,
   "metadata": {},
   "outputs": [
    {
     "name": "stdout",
     "output_type": "stream",
     "text": [
      "total words: 1893, vocab size: 1667, max level height: 18\n"
     ]
    }
   ],
   "source": [
    "vocab = create_vocab([\"train.txt\", \"valid.txt\"])"
   ]
  },
  {
   "cell_type": "code",
   "execution_count": 4,
   "metadata": {},
   "outputs": [
    {
     "data": {
      "text/plain": [
       "'0 0 0 0 0 0 0 0 0 0 0 0 0 0 3 3 3 3 3 3 0 0 0 51 51 0 51 51 0 32 32 0 0 0 0 0 0 0 0 32 32 0 32 32 0 51 51 0 0 0 3 3 3 3 3 3 0 0 0 0 0 0 0 0 0 0 0 0 0 0 0 0 0 0 0 0 0 0 0 0 0 0 0 0 0 0 0 0 0 0 0 0 0 0'"
      ]
     },
     "execution_count": 4,
     "metadata": {},
     "output_type": "execute_result"
    }
   ],
   "source": [
    "vocab[0]"
   ]
  },
  {
   "cell_type": "code",
   "execution_count": 5,
   "metadata": {},
   "outputs": [],
   "source": [
    "with open(\"vocabulary.json\", \"w\") as write_file:\n",
    "    json.dump(vocab, write_file, indent=4)"
   ]
  },
  {
   "attachments": {},
   "cell_type": "markdown",
   "metadata": {},
   "source": [
    "*   Text version"
   ]
  },
  {
   "cell_type": "code",
   "execution_count": 6,
   "metadata": {},
   "outputs": [],
   "source": [
    "with open(\"vocabulary.txt\", \"w\") as write_file:\n",
    "    write_file.write(\"%s\\n\" % \"sos\")\n",
    "    write_file.write(\"%s\\n\" % \"eos\")\n",
    "    for word in vocab:\n",
    "        # write each item on a new line\n",
    "        write_file.write(\"%s\\n\" % word)"
   ]
  },
  {
   "attachments": {},
   "cell_type": "markdown",
   "metadata": {},
   "source": [
    "### Load the vocabulary"
   ]
  },
  {
   "cell_type": "code",
   "execution_count": 7,
   "metadata": {},
   "outputs": [],
   "source": [
    "with open(\"vocabulary.json\") as json_file:\n",
    "    vocab = json.load(json_file)"
   ]
  },
  {
   "cell_type": "code",
   "execution_count": 8,
   "metadata": {},
   "outputs": [
    {
     "data": {
      "text/plain": [
       "'0 0 0 0 0 0 0 0 0 0 0 0 0 0 3 3 3 3 3 3 0 0 0 51 51 0 51 51 0 32 32 0 0 0 0 0 0 0 0 32 32 0 32 32 0 51 51 0 0 0 3 3 3 3 3 3 0 0 0 0 0 0 0 0 0 0 0 0 0 0 0 0 0 0 0 0 0 0 0 0 0 0 0 0 0 0 0 0 0 0 0 0 0 0'"
      ]
     },
     "execution_count": 8,
     "metadata": {},
     "output_type": "execute_result"
    }
   ],
   "source": [
    "vocab[0]"
   ]
  },
  {
   "cell_type": "code",
   "execution_count": 9,
   "metadata": {},
   "outputs": [
    {
     "data": {
      "text/plain": [
       "0"
      ]
     },
     "execution_count": 9,
     "metadata": {},
     "output_type": "execute_result"
    }
   ],
   "source": [
    "# Tentative: use sum of the list as Hash value for quicker indexing.\n",
    "vocab.index(vocab[0])"
   ]
  }
 ],
 "metadata": {
  "kernelspec": {
   "display_name": "Python 3",
   "language": "python",
   "name": "python3"
  },
  "language_info": {
   "codemirror_mode": {
    "name": "ipython",
    "version": 3
   },
   "file_extension": ".py",
   "mimetype": "text/x-python",
   "name": "python",
   "nbconvert_exporter": "python",
   "pygments_lexer": "ipython3",
   "version": "3.10.5"
  },
  "orig_nbformat": 4,
  "vscode": {
   "interpreter": {
    "hash": "e59c61c2108213931f037b0ada9e7df58bcb9fbc285d4df0f8e668c86cbb7993"
   }
  }
 },
 "nbformat": 4,
 "nbformat_minor": 2
}
